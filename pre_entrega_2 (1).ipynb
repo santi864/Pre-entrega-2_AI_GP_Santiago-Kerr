{
  "nbformat": 4,
  "nbformat_minor": 0,
  "metadata": {
    "colab": {
      "provenance": []
    },
    "kernelspec": {
      "name": "python3",
      "display_name": "Python 3"
    },
    "language_info": {
      "name": "python"
    }
  },
  "cells": [
    {
      "cell_type": "code",
      "execution_count": null,
      "metadata": {
        "id": "VK1-Emz10eOn",
        "colab": {
          "base_uri": "https://localhost:8080/"
        },
        "outputId": "ec790477-9df2-47b5-f820-a142aa855999"
      },
      "outputs": [
        {
          "output_type": "stream",
          "name": "stdout",
          "text": [
            "Collecting openai\n",
            "  Downloading openai-1.40.0-py3-none-any.whl.metadata (22 kB)\n",
            "Requirement already satisfied: anyio<5,>=3.5.0 in /usr/local/lib/python3.10/dist-packages (from openai) (3.7.1)\n",
            "Requirement already satisfied: distro<2,>=1.7.0 in /usr/lib/python3/dist-packages (from openai) (1.7.0)\n",
            "Collecting httpx<1,>=0.23.0 (from openai)\n",
            "  Downloading httpx-0.27.0-py3-none-any.whl.metadata (7.2 kB)\n",
            "Collecting jiter<1,>=0.4.0 (from openai)\n",
            "  Downloading jiter-0.5.0-cp310-cp310-manylinux_2_17_x86_64.manylinux2014_x86_64.whl.metadata (3.6 kB)\n",
            "Requirement already satisfied: pydantic<3,>=1.9.0 in /usr/local/lib/python3.10/dist-packages (from openai) (2.8.2)\n",
            "Requirement already satisfied: sniffio in /usr/local/lib/python3.10/dist-packages (from openai) (1.3.1)\n",
            "Requirement already satisfied: tqdm>4 in /usr/local/lib/python3.10/dist-packages (from openai) (4.66.4)\n",
            "Requirement already satisfied: typing-extensions<5,>=4.11 in /usr/local/lib/python3.10/dist-packages (from openai) (4.12.2)\n",
            "Requirement already satisfied: idna>=2.8 in /usr/local/lib/python3.10/dist-packages (from anyio<5,>=3.5.0->openai) (3.7)\n",
            "Requirement already satisfied: exceptiongroup in /usr/local/lib/python3.10/dist-packages (from anyio<5,>=3.5.0->openai) (1.2.2)\n",
            "Requirement already satisfied: certifi in /usr/local/lib/python3.10/dist-packages (from httpx<1,>=0.23.0->openai) (2024.7.4)\n",
            "Collecting httpcore==1.* (from httpx<1,>=0.23.0->openai)\n",
            "  Downloading httpcore-1.0.5-py3-none-any.whl.metadata (20 kB)\n",
            "Collecting h11<0.15,>=0.13 (from httpcore==1.*->httpx<1,>=0.23.0->openai)\n",
            "  Downloading h11-0.14.0-py3-none-any.whl.metadata (8.2 kB)\n",
            "Requirement already satisfied: annotated-types>=0.4.0 in /usr/local/lib/python3.10/dist-packages (from pydantic<3,>=1.9.0->openai) (0.7.0)\n",
            "Requirement already satisfied: pydantic-core==2.20.1 in /usr/local/lib/python3.10/dist-packages (from pydantic<3,>=1.9.0->openai) (2.20.1)\n",
            "Downloading openai-1.40.0-py3-none-any.whl (360 kB)\n",
            "\u001b[2K   \u001b[90m━━━━━━━━━━━━━━━━━━━━━━━━━━━━━━━━━━━━━━━━\u001b[0m \u001b[32m360.4/360.4 kB\u001b[0m \u001b[31m2.7 MB/s\u001b[0m eta \u001b[36m0:00:00\u001b[0m\n",
            "\u001b[?25hDownloading httpx-0.27.0-py3-none-any.whl (75 kB)\n",
            "\u001b[2K   \u001b[90m━━━━━━━━━━━━━━━━━━━━━━━━━━━━━━━━━━━━━━━━\u001b[0m \u001b[32m75.6/75.6 kB\u001b[0m \u001b[31m2.8 MB/s\u001b[0m eta \u001b[36m0:00:00\u001b[0m\n",
            "\u001b[?25hDownloading httpcore-1.0.5-py3-none-any.whl (77 kB)\n",
            "\u001b[2K   \u001b[90m━━━━━━━━━━━━━━━━━━━━━━━━━━━━━━━━━━━━━━━━\u001b[0m \u001b[32m77.9/77.9 kB\u001b[0m \u001b[31m4.1 MB/s\u001b[0m eta \u001b[36m0:00:00\u001b[0m\n",
            "\u001b[?25hDownloading jiter-0.5.0-cp310-cp310-manylinux_2_17_x86_64.manylinux2014_x86_64.whl (318 kB)\n",
            "\u001b[2K   \u001b[90m━━━━━━━━━━━━━━━━━━━━━━━━━━━━━━━━━━━━━━━━\u001b[0m \u001b[32m318.9/318.9 kB\u001b[0m \u001b[31m12.3 MB/s\u001b[0m eta \u001b[36m0:00:00\u001b[0m\n",
            "\u001b[?25hDownloading h11-0.14.0-py3-none-any.whl (58 kB)\n",
            "\u001b[2K   \u001b[90m━━━━━━━━━━━━━━━━━━━━━━━━━━━━━━━━━━━━━━━━\u001b[0m \u001b[32m58.3/58.3 kB\u001b[0m \u001b[31m3.1 MB/s\u001b[0m eta \u001b[36m0:00:00\u001b[0m\n",
            "\u001b[?25hInstalling collected packages: jiter, h11, httpcore, httpx, openai\n",
            "Successfully installed h11-0.14.0 httpcore-1.0.5 httpx-0.27.0 jiter-0.5.0 openai-1.40.0\n"
          ]
        }
      ],
      "source": [
        "!pip install openai"
      ]
    },
    {
      "cell_type": "code",
      "source": [
        "import openai"
      ],
      "metadata": {
        "id": "Oh--C9s9Q8c_"
      },
      "execution_count": 36,
      "outputs": []
    },
    {
      "cell_type": "code",
      "source": [
        "openai.api_key = \"sk-j84WGL3Y35M9WJ4YqxNfUvkS7h7PY07WpEBkmkTFqnT3BlbkFJtoCkfz6G3R_PmQiYrV48QJIl8Su7lc0_nP8DfEvQYA\""
      ],
      "metadata": {
        "id": "zXB-MP0sRWkR"
      },
      "execution_count": 37,
      "outputs": []
    },
    {
      "cell_type": "code",
      "source": [
        "import requests\n",
        "\n",
        "URL = \"https://api.openai.com/v1/chat/completions\"\n",
        "\n",
        "payload = {\n",
        "\"model\": \"gpt-3.5-turbo\",\n",
        "\"messages\": [{\"role\": \"user\", \"content\": f\"Desarrolla un sistema de lista de compras usando javascript, html y css\"}],\n",
        "\"temperature\" : 1.0,\n",
        "\"top_p\":1.0,\n",
        "\"n\" : 1,\n",
        "\"stream\": False,\n",
        "\"presence_penalty\":0,\n",
        "\"frequency_penalty\":0,\n",
        "}\n",
        "\n",
        "headers = {\n",
        "\"Content-Type\": \"application/json\",\n",
        "\"Authorization\": f\"Bearer {openai.api_key}\"\n",
        "}\n",
        "\n",
        "response = requests.post(URL, headers=headers, json=payload, stream=False)"
      ],
      "metadata": {
        "id": "NofctLz4VtZ4"
      },
      "execution_count": 38,
      "outputs": []
    },
    {
      "cell_type": "code",
      "source": [
        "response.content"
      ],
      "metadata": {
        "colab": {
          "base_uri": "https://localhost:8080/"
        },
        "id": "-Ok9i-kGZvYX",
        "outputId": "d4c03eca-fb34-48e9-94a4-3fae2de0c6a6"
      },
      "execution_count": 39,
      "outputs": [
        {
          "output_type": "execute_result",
          "data": {
            "text/plain": [
              "b'{\\n  \"id\": \"chatcmpl-9tQ2xGvFClx0KQzm54LlFHXY6WCfR\",\\n  \"object\": \"chat.completion\",\\n  \"created\": 1722995191,\\n  \"model\": \"gpt-3.5-turbo-0125\",\\n  \"choices\": [\\n    {\\n      \"index\": 0,\\n      \"message\": {\\n        \"role\": \"assistant\",\\n        \"content\": \"Aqu\\xc3\\xad hay un ejemplo de c\\xc3\\xb3mo se podr\\xc3\\xada desarrollar un sistema de lista de compras utilizando JavaScript, HTML y CSS:\\\\n\\\\nHTML:\\\\n```html\\\\n<!DOCTYPE html>\\\\n<html>\\\\n<head>\\\\n    <title>Lista de Compras</title>\\\\n    <link rel=\\\\\"stylesheet\\\\\" type=\\\\\"text/css\\\\\" href=\\\\\"styles.css\\\\\">\\\\n</head>\\\\n<body>\\\\n    <h1>Lista de Compras</h1>\\\\n    <input type=\\\\\"text\\\\\" id=\\\\\"item\\\\\" placeholder=\\\\\"Agregar item\\\\\">\\\\n    <button onclick=\\\\\"addItem()\\\\\">Agregar</button>\\\\n    <ul id=\\\\\"shopping-list\\\\\"></ul>\\\\n\\\\n    <script src=\\\\\"script.js\\\\\"></script>\\\\n</body>\\\\n</html>\\\\n```\\\\n\\\\nCSS (styles.css):\\\\n```css\\\\nbody {\\\\n    font-family: Arial, sans-serif;\\\\n    text-align: center;\\\\n}\\\\n\\\\nul {\\\\n    list-style-type: none;\\\\n}\\\\n\\\\nli {\\\\n    padding: 5px;\\\\n}\\\\n\\\\nbutton {\\\\n    padding: 5px 10px;\\\\n    margin-left: 10px;\\\\n}\\\\n```\\\\n\\\\nJavaScript (script.js):\\\\n```javascript\\\\nfunction addItem() {\\\\n    const itemInput = document.getElementById(\\'item\\');\\\\n    const shoppingList = document.getElementById(\\'shopping-list\\');\\\\n    \\\\n    if (itemInput.value.trim() !== \\'\\') {\\\\n        const newItem = document.createElement(\\'li\\');\\\\n        newItem.textContent = itemInput.value.trim();\\\\n        \\\\n        shoppingList.appendChild(newItem);\\\\n        itemInput.value = \\'\\';\\\\n    }\\\\n}\\\\n```\\\\n\\\\nEste sistema permite al usuario agregar elementos a la lista de compras simplemente ingresando el art\\xc3\\xadculo en el campo de texto y haciendo clic en el bot\\xc3\\xb3n \\\\\"Agregar\\\\\". Cada elemento se agrega a la lista de compras como un nuevo elemento de lista.\",\\n        \"refusal\": null\\n      },\\n      \"logprobs\": null,\\n      \"finish_reason\": \"stop\"\\n    }\\n  ],\\n  \"usage\": {\\n    \"prompt_tokens\": 24,\\n    \"completion_tokens\": 343,\\n    \"total_tokens\": 367\\n  },\\n  \"system_fingerprint\": null\\n}\\n'"
            ]
          },
          "metadata": {},
          "execution_count": 39
        }
      ]
    }
  ]
}